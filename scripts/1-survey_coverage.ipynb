{
 "cells": [
  {
   "cell_type": "markdown",
   "id": "0312ba16",
   "metadata": {},
   "source": [
    "### This notebook compile sky coverage for each catalogues"
   ]
  },
  {
   "cell_type": "code",
   "execution_count": null,
   "id": "dec0321d",
   "metadata": {},
   "outputs": [
    {
     "name": "stdout",
     "output_type": "stream",
     "text": [
      "0.18.0\n"
     ]
    }
   ],
   "source": [
    "# One can refer to https://github.com/cds-astro/mocpy/blob/master/notebooks for details on how to use mocpy.\n",
    "import matplotlib.pyplot as plt\n",
    "import mocpy\n",
    "from mocpy import MOC, WCS\n",
    "from astropy.coordinates import Angle, SkyCoord\n",
    "from astropy.io import fits\n",
    "from astropy import units as u\n",
    "from astropy.visualization.wcsaxes.frame import EllipticalFrame\n",
    "from astropy.wcs import WCS\n",
    "from astroquery.vizier import Vizier\n",
    "from astropy.table import Table\n",
    "print(mocpy.__version__)"
   ]
  },
  {
   "cell_type": "code",
   "execution_count": null,
   "id": "87428c60",
   "metadata": {},
   "outputs": [],
   "source": [
    "image_path = \"tmp_sdss.fits\"\n",
    "\n",
    "table = \n",
    "with fits.open(image_path) as hdulist:\n",
    "    moc = MOC.from_fits_image(hdu=hdulist[0], max_norder=15, mask=hdulist[0].data)"
   ]
  }
 ],
 "metadata": {
  "kernelspec": {
   "display_name": "base",
   "language": "python",
   "name": "python3"
  },
  "language_info": {
   "codemirror_mode": {
    "name": "ipython",
    "version": 3
   },
   "file_extension": ".py",
   "mimetype": "text/x-python",
   "name": "python",
   "nbconvert_exporter": "python",
   "pygments_lexer": "ipython3",
   "version": "3.12.2"
  }
 },
 "nbformat": 4,
 "nbformat_minor": 5
}
