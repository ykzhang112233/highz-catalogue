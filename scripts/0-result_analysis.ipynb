{
 "cells": [
  {
   "cell_type": "code",
   "execution_count": null,
   "id": "a585baa6",
   "metadata": {},
   "outputs": [
    {
     "name": "stdout",
     "output_type": "stream",
     "text": [
      "Index(['sdss_name', 'sdss_ra', 'sdss_dec', 'sdss_z', 'sdss_source_z',\n",
      "       'FIRST_r1', 'source_tier_first', 'Fpeak_r1', 'Fint_r1', 'Rms_r1',\n",
      "       'NVSS_r2', 'source_tier_nvss', 'S1.4_r2', 'e_S1.4_r2', 'GLEAM_r3',\n",
      "       'source_tier_gleam', 'Fpwide_r3', 'e_Fpwide_r3', 'Fintwide_r3',\n",
      "       'e_Fintwide_r3', 'RACS-DR1_r4', 'source_tier_racs', 'Fpk_r4',\n",
      "       'e_Fpk_r4', 'Ftot_r4', 'e_Ftot_r4'],\n",
      "      dtype='object')\n",
      "            sdss_name   sdss_ra  sdss_dec    sdss_z sdss_source_z  \\\n",
      "0  000017.32-044502.3  0.072189 -4.750661  3.274816          PIPE   \n",
      "1  000023.29+014501.8  0.097058  1.750519  3.097035          PIPE   \n",
      "2  000051.56+001202.5  0.214857  0.200716  3.865000            VI   \n",
      "3  000154.27+094414.9  0.476156  9.737474  4.858996          PIPE   \n",
      "4  000215.84+021744.6  0.566032  2.295731  3.110528          PIPE   \n",
      "\n",
      "           FIRST_r1  source_tier_first  Fpeak_r1  Fint_r1  Rms_r1  ...  \\\n",
      "0  J000017.3-044501                  1      1.69     1.23   0.152  ...   \n",
      "1  J000023.2+014501                  1      2.36     2.02   0.084  ...   \n",
      "2  J000051.5+001202                  1      2.74     2.64   0.103  ...   \n",
      "3  J000154.2+094414                  1      6.83     6.85   0.120  ...   \n",
      "4  J000215.8+021744                  1      3.06     3.08   0.137  ...   \n",
      "\n",
      "  Fpwide_r3  e_Fpwide_r3  Fintwide_r3  e_Fintwide_r3       RACS-DR1_r4  \\\n",
      "0       NaN          NaN          NaN            NaN  J000017.5-044504   \n",
      "1       NaN          NaN          NaN            NaN  J000023.1+014502   \n",
      "2       NaN          NaN          NaN            NaN                     \n",
      "3       NaN          NaN          NaN            NaN  J000154.2+094414   \n",
      "4       NaN          NaN          NaN            NaN                     \n",
      "\n",
      "   source_tier_racs  Fpk_r4  e_Fpk_r4  Ftot_r4  e_Ftot_r4  \n",
      "0                 1   1.484     0.286    1.425      0.482  \n",
      "1                 1   5.322     0.426    5.232      0.732  \n",
      "2            -32768     NaN       NaN      NaN        NaN  \n",
      "3                 1  11.984     0.458   13.428      0.856  \n",
      "4            -32768     NaN       NaN      NaN        NaN  \n",
      "\n",
      "[5 rows x 26 columns]\n"
     ]
    }
   ],
   "source": [
    "from astropy.io import fits\n",
    "import pandas as pd\n",
    "\n",
    "# 读取 FITS 文件\n",
    "file_path = 'final_matched_highz_catalogue.fits'  # TOPCAT 保存的 FITS 文件路径\n",
    "with fits.open(file_path) as hdul:\n",
    "    data = hdul[1].data  # 星表数据通常在第一个扩展（HDU 1）中\n",
    "    df = pd.DataFrame(data)  # 转换为 Pandas DataFrame\n",
    "\n",
    "# 查看列名和前几行\n",
    "print(df.columns)\n",
    "print(df.head())"
   ]
  },
  {
   "cell_type": "code",
   "execution_count": null,
   "id": "ae128ff9",
   "metadata": {},
   "outputs": [
    {
     "name": "stdout",
     "output_type": "stream",
     "text": [
      "            sdss_name   sdss_ra  sdss_dec    sdss_z sdss_source_z  \\\n",
      "0  000017.32-044502.3  0.072189 -4.750661  3.274816          PIPE   \n",
      "1  000023.29+014501.8  0.097058  1.750519  3.097035          PIPE   \n",
      "2  000051.56+001202.5  0.214857  0.200716  3.865000            VI   \n",
      "3  000154.27+094414.9  0.476156  9.737474  4.858996          PIPE   \n",
      "4  000215.84+021744.6  0.566032  2.295731  3.110528          PIPE   \n",
      "\n",
      "              FIRST  source_tier_first  Fpeak_first  Fint_first  Rms_first  \\\n",
      "0  J000017.3-044501                  1         1.69        1.23      0.152   \n",
      "1  J000023.2+014501                  1         2.36        2.02      0.084   \n",
      "2  J000051.5+001202                  1         2.74        2.64      0.103   \n",
      "3  J000154.2+094414                  1         6.83        6.85      0.120   \n",
      "4  J000215.8+021744                  1         3.06        3.08      0.137   \n",
      "\n",
      "   ... Fpwide_gleam  e_Fpwide_gleam  Fintwide_gleam  e_Fintwide_gleam  \\\n",
      "0  ...          NaN             NaN             NaN               NaN   \n",
      "1  ...          NaN             NaN             NaN               NaN   \n",
      "2  ...          NaN             NaN             NaN               NaN   \n",
      "3  ...          NaN             NaN             NaN               NaN   \n",
      "4  ...          NaN             NaN             NaN               NaN   \n",
      "\n",
      "           RACS-DR1  source_tier_racs  Fpk_racs  e_Fpk_racs  Ftot_racs  \\\n",
      "0  J000017.5-044504                 1     1.484       0.286      1.425   \n",
      "1  J000023.1+014502                 1     5.322       0.426      5.232   \n",
      "2                              -32768       NaN         NaN        NaN   \n",
      "3  J000154.2+094414                 1    11.984       0.458     13.428   \n",
      "4                              -32768       NaN         NaN        NaN   \n",
      "\n",
      "   e_Ftot_racs  \n",
      "0        0.482  \n",
      "1        0.732  \n",
      "2          NaN  \n",
      "3        0.856  \n",
      "4          NaN  \n",
      "\n",
      "[5 rows x 26 columns]\n"
     ]
    }
   ],
   "source": [
    "columns = [\n",
    "    \"FIRST_r1\", \"NVSS_r2\", \"GLEAM_r3\", \"RACS-DR1_r4\",\n",
    "    \"Fpeak_r1\", \"Fint_r1\", \"Rms_r1\", \"S1.4_r2\", \"e_S1.4_r2\",\n",
    "    \"Fpwide_r3\", \"e_Fpwide_r3\", \"Fintwide_r3\", \"e_Fintwide_r3\",\n",
    "    \"Fpk_r4\", \"e_Fpk_r4\", \"Ftot_r4\", \"e_Ftot_r4\"\n",
    "]\n",
    "\n",
    "new_columns = [\n",
    "    \"FIRST\", \"NVSS\", \"GLEAM\", \"RACS-DR1\",\n",
    "    \"Fpeak_first\", \"Fint_first\", \"Rms_first\", \"S1.4_nvss\", \"e_S1.4_nvss\",\n",
    "    \"Fpwide_gleam\", \"e_Fpwide_gleam\", \"Fintwide_gleam\", \"e_Fintwide_gleam\",\n",
    "    \"Fpk_racs\", \"e_Fpk_racs\", \"Ftot_racs\", \"e_Ftot_racs\"\n",
    "]\n",
    "df.rename(columns={old: new for old, new in zip(columns, new_columns)}, inplace=True)\n",
    "print(df.head())"
   ]
  },
  {
   "cell_type": "code",
   "execution_count": null,
   "id": "b911306c",
   "metadata": {},
   "outputs": [
    {
     "name": "stderr",
     "output_type": "stream",
     "text": [
      "/home/ykzhang/.config/matplotlib is not a writable directory\n",
      "Matplotlib created a temporary cache directory at /tmp/matplotlib-onyu5ob9 because there was an issue with the default path (/home/ykzhang/.config/matplotlib); it is highly recommended to set the MPLCONFIGDIR environment variable to a writable directory, in particular to speed up the import of Matplotlib and to better support multiprocessing.\n"
     ]
    },
    {
     "data": {
      "image/png": "[encoded data removed]",
      "text/plain": [
       "<Figure size 1000x600 with 1 Axes>"
      ]
     },
     "metadata": {},
     "output_type": "display_data"
    }
   ],
   "source": [
    "from matplotlib import pyplot as plt\n",
    "\n",
    "#draw the hitogram figure for redshift distribution\n",
    "plt.figure(figsize=(10, 6))\n",
    "# start from z= 3 and ends at z= 7.2, bin width is 0.2\n",
    "plt.hist(df['sdss_z'], bins=21, range=(3, 7.2), color='blue', alpha=0.7, edgecolor='black')\n",
    "plt.title('Redshift Distribution')\n",
    "plt.xlabel('Redshift (z)')\n",
    "plt.ylabel('Number of Sources')\n",
    "plt.grid(axis='y', alpha=0.75)\n",
    "plt.show()"
   ]
  },
  {
   "cell_type": "code",
   "execution_count": null,
   "id": "94b41ee7",
   "metadata": {},
   "outputs": [
    {
     "name": "stdout",
     "output_type": "stream",
     "text": [
      "Number of sources with z >= 3: 2270\n",
      "Number of sources with z >= 4: 235\n",
      "Number of sources with z >= 5: 69\n",
      "Number of sources with z >= 6: 32\n",
      "Number of sources with z >= 7: 1\n",
      "Number of sources with z >= 3 and source_tier_first = 1: 1518\n",
      "Number of sources with z >= 4 and source_tier_first = 1: 180\n",
      "Number of sources with z >= 5 and source_tier_first = 1: 52\n",
      "Number of sources with z >= 6 and source_tier_first = 1: 25\n",
      "Number of sources with z >= 7 and source_tier_first = 1: 1\n"
     ]
    }
   ],
   "source": [
    "# show the numbers of every redshift range\n",
    "# z>3 is 1515\n",
    "# check z>4 \n",
    "print(\"Number of sources with z >= 3:\", len(df[df['sdss_z'] >= 3]))\n",
    "# check z>4\n",
    "print(\"Number of sources with z >= 4:\", len(df[df['sdss_z'] >= 4]))\n",
    "# check z>5\n",
    "print(\"Number of sources with z >= 5:\", len(df[df['sdss_z'] >= 5]))\n",
    "# check z>6\n",
    "print(\"Number of sources with z >= 6:\", len(df[df['sdss_z'] >= 6]))\n",
    "# check z>7\n",
    "print(\"Number of sources with z >= 7:\", len(df[df['sdss_z'] >= 7]))\n",
    "# for a statistical check, just look for source_tier_first =1 source with each redshift range\n",
    "print(\"Number of sources with z >= 3 and source_tier_first = 1:\", len(df[(df['sdss_z'] >= 3) & (df['source_tier_first'] == 1)]))\n",
    "# check the number of sources with z > 3 and source_tier_first = 1\n",
    "print(\"Number of sources with z >= 4 and source_tier_first = 1:\", len(df[(df['sdss_z'] >= 4) & (df['source_tier_first'] == 1)]))\n",
    "# check the number of sources with z > 5 and source_tier_first = 1\n",
    "print(\"Number of sources with z >= 5 and source_tier_first = 1:\", len(df[(df['sdss_z'] >= 5) & (df['source_tier_first'] == 1)]))\n",
    "# check the number of sources with z > 6 and source_tier_first = 1\n",
    "print(\"Number of sources with z >= 6 and source_tier_first = 1:\", len(df[(df['sdss_z'] >= 6) & (df['source_tier_first'] == 1)]))\n",
    "# check the number of sources with z > 7 and source_tier_first = 1\n",
    "print(\"Number of sources with z >= 7 and source_tier_first = 1:\", len(df[(df['sdss_z'] >= 7) & (df['source_tier_first'] == 1)]))\n",
    "\n",
    "\n",
    "\n"
   ]
  }
 ],
 "metadata": {
  "kernelspec": {
   "display_name": "base",
   "language": "python",
   "name": "python3"
  },
  "language_info": {
   "codemirror_mode": {
    "name": "ipython",
    "version": 3
   },
   "file_extension": ".py",
   "mimetype": "text/x-python",
   "name": "python",
   "nbconvert_exporter": "python",
   "pygments_lexer": "ipython3",
   "version": "3.12.2"
  }
 },
 "nbformat": 4,
 "nbformat_minor": 5
}
