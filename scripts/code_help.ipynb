{
 "cells": [
  {
   "cell_type": "code",
   "execution_count": null,
   "id": "f4f10ec6",
   "metadata": {
    "vscode": {
     "languageId": "shellscript"
    }
   },
   "outputs": [],
   "source": [
    "# The following command can be copy-pasted to CLI but it does not really download a catalogue\n",
    "# Currently it is not used\n",
    "java -jar stilts.jar tapquery \\\n",
    "  tapurl=\"http://tapvizier.cds.unistra.fr/TAPVizieR/tap\" \\\n",
    "  adql='SELECT * FROM \"VIII/92/first14\"' \\\n",
    "  ofmt=fits \\\n",
    "  out=./first14.fits"
   ]
  },
  {
   "cell_type": "code",
   "execution_count": null,
   "id": "c3a53243",
   "metadata": {
    "vscode": {
     "languageId": "shellscript"
    }
   },
   "outputs": [],
   "source": [
    "#For step3 cooking on one source\n",
    "\n",
    "# The following codes are for single catalogue, just for reference\n",
    "# # 2.  After filtering, adjust the groupIDs accordingly\n",
    "# java -jar $stilts_dir tgroup in=\"filtered_r1\" \\\n",
    "#     keys=GroupID \\\n",
    "#     aggcols=\"0;count;GroupCount\" \\\n",
    "#     out=group_count.fits\n",
    "# java -jar $stilts_dir tpipe in=group_count.fits \\\n",
    "#     cmd='select \"GroupCount == 1\"' \\\n",
    "#     out=singleton_groupids.fits\n",
    "\n",
    "# java -jar $stilts_dir tmatch2 \\\n",
    "#     in1=filtered_r1.fits \\\n",
    "#     in2=singleton_groupids.fits \\\n",
    "#     matcher=exact \\\n",
    "#     join=all1 \\\n",
    "#     values1=GroupID values2=GroupID \\\n",
    "#     out=temp_with_gcount.fits\n",
    "\n",
    "# java -jar $stilts_dir tpipe \\\n",
    "#     in=temp_with_gcount.fits \\\n",
    "#     cmd='addcol GroupID \"!NULL_GroupID_1 ? GroupID_1 : NULL\"' \\\n",
    "#     cmd='delcols GroupID_2' \\\n",
    "#     cmd='delcols GroupID_1' \\\n",
    "#     out=temp_with_gcount.fits\n",
    "# exit\n",
    "\n",
    "# #Note, if you don't specify the !NULL option, stilts will treat the ELSE condition (when GroupCount is NULL) as NULL, so it will give GroupSize = NULL rather than keeping the original GroupSize value.\n",
    "# rpl_cmd='replacecol GroupSize \"!NULL_GroupCount && GroupCount == 1 ? 1 : GroupSize\"'\n",
    "# # This may overlappipng with the previous command, but it is necessary to ensure that GroupSize is set to 1 for singleton groups.\n",
    "# rpl_cmd2='replaceval NULL 1 \"GroupSize\"'\n",
    "# java -jar $stilts_dir tpipe ifmt=fits \\\n",
    "#     in=temp_with_gcount.fits \\\n",
    "#     cmd=\"$rpl_cmd\" \\\n",
    "#     cmd=\"$rpl_cmd2\" \\\n",
    "#     out=filtered_r1_CLN.fits\n",
    "\n",
    "# # 3. Flag the high-z and single matched sources as tier 1\n",
    "\n",
    "# flag_cmd1='addcol source_tier \"GroupSize==1 && Z_o1>=3 ? 1 : 0\"'\n",
    "# # flag_cmd2='replacecol source_tier \"source_tier == 0 && group_z_min > 3 ? 2 : 0\"'\n",
    "# # flag_cmd3='replacecol source_tier \"source_tier == 0 && group_z_min <= 3 && Z_o1>=3 ? 3 : 0\"'\n",
    "# java -jar $stilts_dir tpipe ifmt=fits in=filtered_r1_CLN.fits \\\n",
    "#     cmd=\"$flag_cmd1\" \\\n",
    "#     out=mr1_t1.fits\n",
    "\n",
    "# cook the grouped sources\n",
    "# java -jar $stilts_dir tgroup \\\n",
    "#     in=filtered_r3.fits \\\n",
    "#     keys=GroupID \\\n",
    "#     aggcols='Z_o1;max;group_z_max Z_o1;min;group_z_min 0;count;GroupSize' \\\n",
    "#     out=group_zcheck.fits\n",
    "\n",
    "# java -jar $stilts_dir tpipe \\\n",
    "#     in=group_zcheck.fits \\\n",
    "#     cmd='select \"!NULL_GroupID && GroupSize > 1 && group_z_max > 3\"' \\\n",
    "#     cmd='keepcols \"GroupID group_z_min\"' \\\n",
    "#     out=r3_group_hz_sources.fits\n",
    "\n",
    "# java -jar $stilts_dir tmatch2 \\\n",
    "#     in1=filtered_r3.fits \\\n",
    "#     in2=r3_group_hz_sources.fits \\\n",
    "#     matcher=exact \\\n",
    "#     join=all1 \\\n",
    "#     find=all \\\n",
    "#     values1=GroupID values2=GroupID \\\n",
    "#     ocmd='delcols \"GroupID GroupSize\"' \\\n",
    "#     ocmd='addcol GroupID \"!NULL_GroupID_1 ? GroupID_1 : NULL\"' \\\n",
    "#     ocmd='addcol GroupSize \"!NULL_GroupSize_1 ? GroupSize_1 : NULL\"' \\\n",
    "#     ocmd='delcols \"GroupID_1 GroupID_2 GroupSize_1\"' \\\n",
    "#     out=filtered_r3_Tier23.fits\n",
    "\n",
    "#         #    cmd='replacecol source_tier (\n",
    "#         # source_tier < 2 && GroupID_NULL ? source_tier :\n",
    "#         # (source_tier < 2 && z_min > 3 ? 3 :\n",
    "#         # (source_tier < 2 ? 2 : source_tier)))' \\\n",
    "# exit"
   ]
  },
  {
   "cell_type": "code",
   "execution_count": 2,
   "id": "4278bc51",
   "metadata": {},
   "outputs": [
    {
     "name": "stdout",
     "output_type": "stream",
     "text": [
      "Index(['sdss_name', 'sdss_ra', 'sdss_dec', 'sdss_z', 'sdss_source_z',\n",
      "       'source_tier_first', 'FIRST_r1', 'Fpeak_r1', 'Fint_r1', 'Rms_r1',\n",
      "       'source_tier_nvss', 'NVSS_r2', 'S1.4_r2', 'e_S1.4_r2',\n",
      "       'source_tier_gleam', 'GLEAM_r3', 'Fpwide_r3', 'e_Fpwide_r3',\n",
      "       'Fintwide_r3', 'e_Fintwide_r3', 'source_tier_racs', 'RACS-DR1_r4',\n",
      "       'Fpk_r4', 'e_Fpk_r4', 'Ftot_r4', 'e_Ftot_r4'],\n",
      "      dtype='object')\n",
      "            sdss_name   sdss_ra  sdss_dec    sdss_z sdss_source_z  \\\n",
      "0  000017.32-044502.3  0.072189 -4.750661  3.274816          PIPE   \n",
      "1  000023.29+014501.8  0.097058  1.750519  3.097035          PIPE   \n",
      "2  000051.56+001202.5  0.214857  0.200716  3.865000            VI   \n",
      "3  000154.27+094414.9  0.476156  9.737474  4.858996          PIPE   \n",
      "4  000200.93-033605.6  0.503886 -3.601581  3.154000            VI   \n",
      "\n",
      "   source_tier_first          FIRST_r1  Fpeak_r1  Fint_r1  Rms_r1  ...  \\\n",
      "0                  1  J000017.3-044501      1.69     1.23   0.152  ...   \n",
      "1                  1  J000023.2+014501      2.36     2.02   0.084  ...   \n",
      "2                  1  J000051.5+001202      2.74     2.64   0.103  ...   \n",
      "3                  1  J000154.2+094414      6.83     6.85   0.120  ...   \n",
      "4                  1  J000200.9-033605      4.56     5.24   0.162  ...   \n",
      "\n",
      "   Fpwide_r3 e_Fpwide_r3  Fintwide_r3  e_Fintwide_r3  source_tier_racs  \\\n",
      "0        NaN         NaN          NaN            NaN                 1   \n",
      "1        NaN         NaN          NaN            NaN                 1   \n",
      "2        NaN         NaN          NaN            NaN            -32768   \n",
      "3        NaN         NaN          NaN            NaN                 1   \n",
      "4        NaN         NaN          NaN            NaN                 1   \n",
      "\n",
      "        RACS-DR1_r4  Fpk_r4  e_Fpk_r4  Ftot_r4  e_Ftot_r4  \n",
      "0  J000017.5-044504   1.484     0.286    1.425      0.482  \n",
      "1  J000023.1+014502   5.322     0.426    5.232      0.732  \n",
      "2                       NaN       NaN      NaN        NaN  \n",
      "3  J000154.2+094414  11.984     0.458   13.428      0.856  \n",
      "4  J000200.8-033603   7.581     0.393    8.426      0.732  \n",
      "\n",
      "[5 rows x 26 columns]\n"
     ]
    }
   ],
   "source": [
    "from astropy.io import fits\n",
    "import pandas as pd\n",
    "\n",
    "# 读取 FITS 文件\n",
    "file_path = 'final_matched_highz_catalogue.fits'  # TOPCAT 保存的 FITS 文件路径\n",
    "with fits.open(file_path) as hdul:\n",
    "    data = hdul[1].data  # 星表数据通常在第一个扩展（HDU 1）中\n",
    "    df = pd.DataFrame(data)  # 转换为 Pandas DataFrame\n",
    "\n",
    "# 查看列名和前几行\n",
    "print(df.columns)\n",
    "print(df.head())"
   ]
  },
  {
   "cell_type": "code",
   "execution_count": 4,
   "id": "296f1913",
   "metadata": {},
   "outputs": [
    {
     "name": "stdout",
     "output_type": "stream",
     "text": [
      "            sdss_name   sdss_ra  sdss_dec    sdss_z sdss_source_z  \\\n",
      "0  000017.32-044502.3  0.072189 -4.750661  3.274816          PIPE   \n",
      "1  000023.29+014501.8  0.097058  1.750519  3.097035          PIPE   \n",
      "2  000051.56+001202.5  0.214857  0.200716  3.865000            VI   \n",
      "3  000154.27+094414.9  0.476156  9.737474  4.858996          PIPE   \n",
      "4  000200.93-033605.6  0.503886 -3.601581  3.154000            VI   \n",
      "\n",
      "   source_tier_first             FIRST  Fpeak_first  Fint_first  Rms_first  \\\n",
      "0                  1  J000017.3-044501         1.69        1.23      0.152   \n",
      "1                  1  J000023.2+014501         2.36        2.02      0.084   \n",
      "2                  1  J000051.5+001202         2.74        2.64      0.103   \n",
      "3                  1  J000154.2+094414         6.83        6.85      0.120   \n",
      "4                  1  J000200.9-033605         4.56        5.24      0.162   \n",
      "\n",
      "   ...  Fpwide_gleam e_Fpwide_gleam  Fintwide_gleam  e_Fintwide_gleam  \\\n",
      "0  ...           NaN            NaN             NaN               NaN   \n",
      "1  ...           NaN            NaN             NaN               NaN   \n",
      "2  ...           NaN            NaN             NaN               NaN   \n",
      "3  ...           NaN            NaN             NaN               NaN   \n",
      "4  ...           NaN            NaN             NaN               NaN   \n",
      "\n",
      "   source_tier_racs          RACS-DR1  Fpk_racs  e_Fpk_racs  Ftot_racs  \\\n",
      "0                 1  J000017.5-044504     1.484       0.286      1.425   \n",
      "1                 1  J000023.1+014502     5.322       0.426      5.232   \n",
      "2            -32768                         NaN         NaN        NaN   \n",
      "3                 1  J000154.2+094414    11.984       0.458     13.428   \n",
      "4                 1  J000200.8-033603     7.581       0.393      8.426   \n",
      "\n",
      "   e_Ftot_racs  \n",
      "0        0.482  \n",
      "1        0.732  \n",
      "2          NaN  \n",
      "3        0.856  \n",
      "4        0.732  \n",
      "\n",
      "[5 rows x 26 columns]\n"
     ]
    }
   ],
   "source": [
    "columns = [\n",
    "    \"FIRST_r1\", \"NVSS_r2\", \"GLEAM_r3\", \"RACS-DR1_r4\",\n",
    "    \"Fpeak_r1\", \"Fint_r1\", \"Rms_r1\", \"S1.4_r2\", \"e_S1.4_r2\",\n",
    "    \"Fpwide_r3\", \"e_Fpwide_r3\", \"Fintwide_r3\", \"e_Fintwide_r3\",\n",
    "    \"Fpk_r4\", \"e_Fpk_r4\", \"Ftot_r4\", \"e_Ftot_r4\"\n",
    "]\n",
    "\n",
    "new_columns = [\n",
    "    \"FIRST\", \"NVSS\", \"GLEAM\", \"RACS-DR1\",\n",
    "    \"Fpeak_first\", \"Fint_first\", \"Rms_first\", \"S1.4_nvss\", \"e_S1.4_nvss\",\n",
    "    \"Fpwide_gleam\", \"e_Fpwide_gleam\", \"Fintwide_gleam\", \"e_Fintwide_gleam\",\n",
    "    \"Fpk_racs\", \"e_Fpk_racs\", \"Ftot_racs\", \"e_Ftot_racs\"\n",
    "]\n",
    "df.rename(columns={old: new for old, new in zip(columns, new_columns)}, inplace=True)\n",
    "print(df.head())"
   ]
  },
  {
   "cell_type": "code",
   "execution_count": 10,
   "id": "fdf84d6e",
   "metadata": {},
   "outputs": [
    {
     "data": {
      "image/png": "[encoded data removed]",
      "text/plain": [
       "<Figure size 1000x600 with 1 Axes>"
      ]
     },
     "metadata": {},
     "output_type": "display_data"
    }
   ],
   "source": [
    "from matplotlib import pyplot as plt\n",
    "\n",
    "#draw the hitogram figure for redshift distribution\n",
    "plt.figure(figsize=(10, 6))\n",
    "# start from z= 3 and ends at z= 7.2, bin width is 0.2\n",
    "plt.hist(df['sdss_z'], bins=21, range=(3, 7.2), color='blue', alpha=0.7, edgecolor='black')\n",
    "plt.title('Redshift Distribution')\n",
    "plt.xlabel('Redshift (z)')\n",
    "plt.ylabel('Number of Sources')\n",
    "plt.grid(axis='y', alpha=0.75)\n",
    "plt.show()"
   ]
  },
  {
   "cell_type": "code",
   "execution_count": 13,
   "id": "d39a9089",
   "metadata": {},
   "outputs": [
    {
     "name": "stdout",
     "output_type": "stream",
     "text": [
      "Number of sources with z > 3: 1515\n",
      "Number of sources with z > 4: 161\n",
      "Number of sources with z > 5: 49\n",
      "Number of sources with z > 6: 22\n",
      "Number of sources with z > 7: 1\n",
      "Number of sources with z > 3 and source_tier_first = 1: 1346\n",
      "Number of sources with z > 4 and source_tier_first = 1: 150\n",
      "Number of sources with z > 5 and source_tier_first = 1: 44\n",
      "Number of sources with z > 6 and source_tier_first = 1: 19\n",
      "Number of sources with z > 7 and source_tier_first = 1: 1\n"
     ]
    }
   ],
   "source": [
    "# show the numbers of every redshift range\n",
    "# z>3 is 1515\n",
    "# check z>4 \n",
    "print(\"Number of sources with z > 3:\", len(df[df['sdss_z'] >= 3]))\n",
    "# check z>4\n",
    "print(\"Number of sources with z > 4:\", len(df[df['sdss_z'] >= 4]))\n",
    "# check z>5\n",
    "print(\"Number of sources with z > 5:\", len(df[df['sdss_z'] >= 5]))\n",
    "# check z>6\n",
    "print(\"Number of sources with z > 6:\", len(df[df['sdss_z'] >= 6]))\n",
    "# check z>7\n",
    "print(\"Number of sources with z > 7:\", len(df[df['sdss_z'] >= 7]))\n",
    "# for a statistical check, just look for source_tier_first =1 source with each redshift range\n",
    "print(\"Number of sources with z > 3 and source_tier_first = 1:\", len(df[(df['sdss_z'] >= 3) & (df['source_tier_first'] == 1)]))\n",
    "# check the number of sources with z > 3 and source_tier_first = 1\n",
    "print(\"Number of sources with z > 4 and source_tier_first = 1:\", len(df[(df['sdss_z'] >= 4) & (df['source_tier_first'] == 1)]))\n",
    "# check the number of sources with z > 5 and source_tier_first = 1\n",
    "print(\"Number of sources with z > 5 and source_tier_first = 1:\", len(df[(df['sdss_z'] >= 5) & (df['source_tier_first'] == 1)]))\n",
    "# check the number of sources with z > 6 and source_tier_first = 1\n",
    "print(\"Number of sources with z > 6 and source_tier_first = 1:\", len(df[(df['sdss_z'] >= 6) & (df['source_tier_first'] == 1)]))\n",
    "# check the number of sources with z > 7 and source_tier_first = 1\n",
    "print(\"Number of sources with z > 7 and source_tier_first = 1:\", len(df[(df['sdss_z'] >= 7) & (df['source_tier_first'] == 1)]))\n",
    "\n",
    "\n",
    "\n"
   ]
  },
  {
   "cell_type": "code",
   "execution_count": null,
   "id": "0ed91bdd",
   "metadata": {},
   "outputs": [],
   "source": []
  }
 ],
 "metadata": {
  "kernelspec": {
   "display_name": "base",
   "language": "python",
   "name": "python3"
  },
  "language_info": {
   "codemirror_mode": {
    "name": "ipython",
    "version": 3
   },
   "file_extension": ".py",
   "mimetype": "text/x-python",
   "name": "python",
   "nbconvert_exporter": "python",
   "pygments_lexer": "ipython3",
   "version": "3.12.2"
  }
 },
 "nbformat": 4,
 "nbformat_minor": 5
}
