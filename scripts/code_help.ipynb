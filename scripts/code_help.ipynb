{
 "cells": [
  {
   "cell_type": "code",
   "execution_count": null,
   "id": "f4f10ec6",
   "metadata": {
    "vscode": {
     "languageId": "shellscript"
    }
   },
   "outputs": [],
   "source": [
    "# The following command can be copy-pasted to CLI but it does not really download a catalogue\n",
    "# Currently it is not used\n",
    "java -jar stilts.jar tapquery \\\n",
    "  tapurl=\"http://tapvizier.cds.unistra.fr/TAPVizieR/tap\" \\\n",
    "  adql='SELECT * FROM \"VIII/92/first14\"' \\\n",
    "  ofmt=fits \\\n",
    "  out=./first14.fits"
   ]
  },
  {
   "cell_type": "code",
   "execution_count": null,
   "id": "c3a53243",
   "metadata": {
    "vscode": {
     "languageId": "shellscript"
    }
   },
   "outputs": [],
   "source": [
    "#For step3 cooking on one source\n",
    "\n",
    "# The following codes are for single catalogue, just for reference\n",
    "# # 2.  After filtering, adjust the groupIDs accordingly\n",
    "# java -jar $stilts_dir tgroup in=\"filtered_r1\" \\\n",
    "#     keys=GroupID \\\n",
    "#     aggcols=\"0;count;GroupCount\" \\\n",
    "#     out=group_count.fits\n",
    "# java -jar $stilts_dir tpipe in=group_count.fits \\\n",
    "#     cmd='select \"GroupCount == 1\"' \\\n",
    "#     out=singleton_groupids.fits\n",
    "\n",
    "# java -jar $stilts_dir tmatch2 \\\n",
    "#     in1=filtered_r1.fits \\\n",
    "#     in2=singleton_groupids.fits \\\n",
    "#     matcher=exact \\\n",
    "#     join=all1 \\\n",
    "#     values1=GroupID values2=GroupID \\\n",
    "#     out=temp_with_gcount.fits\n",
    "\n",
    "# java -jar $stilts_dir tpipe \\\n",
    "#     in=temp_with_gcount.fits \\\n",
    "#     cmd='addcol GroupID \"!NULL_GroupID_1 ? GroupID_1 : NULL\"' \\\n",
    "#     cmd='delcols GroupID_2' \\\n",
    "#     cmd='delcols GroupID_1' \\\n",
    "#     out=temp_with_gcount.fits\n",
    "# exit\n",
    "\n",
    "# #Note, if you don't specify the !NULL option, stilts will treat the ELSE condition (when GroupCount is NULL) as NULL, so it will give GroupSize = NULL rather than keeping the original GroupSize value.\n",
    "# rpl_cmd='replacecol GroupSize \"!NULL_GroupCount && GroupCount == 1 ? 1 : GroupSize\"'\n",
    "# # This may overlappipng with the previous command, but it is necessary to ensure that GroupSize is set to 1 for singleton groups.\n",
    "# rpl_cmd2='replaceval NULL 1 \"GroupSize\"'\n",
    "# java -jar $stilts_dir tpipe ifmt=fits \\\n",
    "#     in=temp_with_gcount.fits \\\n",
    "#     cmd=\"$rpl_cmd\" \\\n",
    "#     cmd=\"$rpl_cmd2\" \\\n",
    "#     out=filtered_r1_CLN.fits\n",
    "\n",
    "# # 3. Flag the high-z and single matched sources as tier 1\n",
    "\n",
    "# flag_cmd1='addcol source_tier \"GroupSize==1 && Z_o1>=3 ? 1 : 0\"'\n",
    "# # flag_cmd2='replacecol source_tier \"source_tier == 0 && group_z_min > 3 ? 2 : 0\"'\n",
    "# # flag_cmd3='replacecol source_tier \"source_tier == 0 && group_z_min <= 3 && Z_o1>=3 ? 3 : 0\"'\n",
    "# java -jar $stilts_dir tpipe ifmt=fits in=filtered_r1_CLN.fits \\\n",
    "#     cmd=\"$flag_cmd1\" \\\n",
    "#     out=mr1_t1.fits\n",
    "\n",
    "# cook the grouped sources\n",
    "# java -jar $stilts_dir tgroup \\\n",
    "#     in=filtered_r3.fits \\\n",
    "#     keys=GroupID \\\n",
    "#     aggcols='Z_o1;max;group_z_max Z_o1;min;group_z_min 0;count;GroupSize' \\\n",
    "#     out=group_zcheck.fits\n",
    "\n",
    "# java -jar $stilts_dir tpipe \\\n",
    "#     in=group_zcheck.fits \\\n",
    "#     cmd='select \"!NULL_GroupID && GroupSize > 1 && group_z_max > 3\"' \\\n",
    "#     cmd='keepcols \"GroupID group_z_min\"' \\\n",
    "#     out=r3_group_hz_sources.fits\n",
    "\n",
    "# java -jar $stilts_dir tmatch2 \\\n",
    "#     in1=filtered_r3.fits \\\n",
    "#     in2=r3_group_hz_sources.fits \\\n",
    "#     matcher=exact \\\n",
    "#     join=all1 \\\n",
    "#     find=all \\\n",
    "#     values1=GroupID values2=GroupID \\\n",
    "#     ocmd='delcols \"GroupID GroupSize\"' \\\n",
    "#     ocmd='addcol GroupID \"!NULL_GroupID_1 ? GroupID_1 : NULL\"' \\\n",
    "#     ocmd='addcol GroupSize \"!NULL_GroupSize_1 ? GroupSize_1 : NULL\"' \\\n",
    "#     ocmd='delcols \"GroupID_1 GroupID_2 GroupSize_1\"' \\\n",
    "#     out=filtered_r3_Tier23.fits\n",
    "\n",
    "#         #    cmd='replacecol source_tier (\n",
    "#         # source_tier < 2 && GroupID_NULL ? source_tier :\n",
    "#         # (source_tier < 2 && z_min > 3 ? 3 :\n",
    "#         # (source_tier < 2 ? 2 : source_tier)))' \\\n",
    "# exit"
   ]
  }
 ],
 "metadata": {
  "kernelspec": {
   "display_name": "base",
   "language": "python",
   "name": "python3"
  },
  "language_info": {
   "name": "python",
   "version": "3.12.2"
  }
 },
 "nbformat": 4,
 "nbformat_minor": 5
}
